{
 "cells": [
  {
   "cell_type": "markdown",
   "id": "14232d8e",
   "metadata": {},
   "source": [
    "# Flash Visualization Code\n"
   ]
  },
  {
   "cell_type": "code",
   "execution_count": 2,
   "id": "b937fa39",
   "metadata": {},
   "outputs": [],
   "source": [
    "%matplotlib notebook\n",
    "import yt\n",
    "yt.toggle_interactivity()"
   ]
  },
  {
   "cell_type": "code",
   "execution_count": 6,
   "id": "b7b377c9",
   "metadata": {},
   "outputs": [
    {
     "name": "stderr",
     "output_type": "stream",
     "text": [
      "yt : [INFO     ] 2025-06-03 21:53:49,101 Parameters: current_time              = 0.010059905419357001\n",
      "yt : [INFO     ] 2025-06-03 21:53:49,102 Parameters: domain_dimensions         = [8 8 1]\n",
      "yt : [INFO     ] 2025-06-03 21:53:49,103 Parameters: domain_left_edge          = [0. 0. 0.]\n",
      "yt : [INFO     ] 2025-06-03 21:53:49,103 Parameters: domain_right_edge         = [1. 1. 1.]\n",
      "yt : [INFO     ] 2025-06-03 21:53:49,104 Parameters: cosmological_simulation   = 0\n",
      "yt : [INFO     ] 2025-06-03 21:53:49,355 xlim = 0.000000 1.000000\n",
      "yt : [INFO     ] 2025-06-03 21:53:49,356 ylim = 0.000000 1.000000\n",
      "yt : [INFO     ] 2025-06-03 21:53:49,357 xlim = 0.000000 1.000000\n",
      "yt : [INFO     ] 2025-06-03 21:53:49,358 ylim = 0.000000 1.000000\n",
      "yt : [INFO     ] 2025-06-03 21:53:49,359 Making a fixed resolution buffer of (('flash', 'dens')) 800 by 800\n"
     ]
    },
    {
     "name": "stdout",
     "output_type": "stream",
     "text": [
      "[('flash', 'dena'), ('flash', 'dens'), ('flash', 'eina'), ('flash', 'eint'), ('flash', 'ener'), ('flash', 'enra'), ('flash', 'gamc'), ('flash', 'game'), ('flash', 'pres'), ('flash', 'prsa'), ('flash', 'shok'), ('flash', 'temp'), ('flash', 'velx'), ('flash', 'vely'), ('flash', 'velz'), ('flash', 'vlxa'), ('flash', 'vlya'), ('flash', 'vlza')]\n"
     ]
    },
    {
     "name": "stderr",
     "output_type": "stream",
     "text": [
      "yt : [INFO     ] 2025-06-03 21:53:49,733 Saving plot density_slice0001.png\n",
      "yt : [INFO     ] 2025-06-03 21:53:49,949 Parameters: current_time              = 0.020050605635410303\n",
      "yt : [INFO     ] 2025-06-03 21:53:49,950 Parameters: domain_dimensions         = [8 8 1]\n",
      "yt : [INFO     ] 2025-06-03 21:53:49,951 Parameters: domain_left_edge          = [0. 0. 0.]\n",
      "yt : [INFO     ] 2025-06-03 21:53:49,952 Parameters: domain_right_edge         = [1. 1. 1.]\n",
      "yt : [INFO     ] 2025-06-03 21:53:49,953 Parameters: cosmological_simulation   = 0\n",
      "yt : [INFO     ] 2025-06-03 21:53:50,195 xlim = 0.000000 1.000000\n",
      "yt : [INFO     ] 2025-06-03 21:53:50,196 ylim = 0.000000 1.000000\n",
      "yt : [INFO     ] 2025-06-03 21:53:50,198 xlim = 0.000000 1.000000\n",
      "yt : [INFO     ] 2025-06-03 21:53:50,198 ylim = 0.000000 1.000000\n",
      "yt : [INFO     ] 2025-06-03 21:53:50,200 Making a fixed resolution buffer of (('flash', 'dens')) 800 by 800\n"
     ]
    },
    {
     "name": "stdout",
     "output_type": "stream",
     "text": [
      "[('flash', 'dena'), ('flash', 'dens'), ('flash', 'eina'), ('flash', 'eint'), ('flash', 'ener'), ('flash', 'enra'), ('flash', 'gamc'), ('flash', 'game'), ('flash', 'pres'), ('flash', 'prsa'), ('flash', 'shok'), ('flash', 'temp'), ('flash', 'velx'), ('flash', 'vely'), ('flash', 'velz'), ('flash', 'vlxa'), ('flash', 'vlya'), ('flash', 'vlza')]\n"
     ]
    },
    {
     "name": "stderr",
     "output_type": "stream",
     "text": [
      "yt : [INFO     ] 2025-06-03 21:53:50,447 Saving plot density_slice0002.png\n",
      "yt : [INFO     ] 2025-06-03 21:53:50,816 Parameters: current_time              = 0.030166051242147225\n",
      "yt : [INFO     ] 2025-06-03 21:53:50,817 Parameters: domain_dimensions         = [8 8 1]\n",
      "yt : [INFO     ] 2025-06-03 21:53:50,817 Parameters: domain_left_edge          = [0. 0. 0.]\n",
      "yt : [INFO     ] 2025-06-03 21:53:50,818 Parameters: domain_right_edge         = [1. 1. 1.]\n",
      "yt : [INFO     ] 2025-06-03 21:53:50,818 Parameters: cosmological_simulation   = 0\n",
      "yt : [INFO     ] 2025-06-03 21:53:51,219 xlim = 0.000000 1.000000\n",
      "yt : [INFO     ] 2025-06-03 21:53:51,220 ylim = 0.000000 1.000000\n",
      "yt : [INFO     ] 2025-06-03 21:53:51,222 xlim = 0.000000 1.000000\n",
      "yt : [INFO     ] 2025-06-03 21:53:51,222 ylim = 0.000000 1.000000\n",
      "yt : [INFO     ] 2025-06-03 21:53:51,225 Making a fixed resolution buffer of (('flash', 'dens')) 800 by 800\n"
     ]
    },
    {
     "name": "stdout",
     "output_type": "stream",
     "text": [
      "[('flash', 'dena'), ('flash', 'dens'), ('flash', 'eina'), ('flash', 'eint'), ('flash', 'ener'), ('flash', 'enra'), ('flash', 'gamc'), ('flash', 'game'), ('flash', 'pres'), ('flash', 'prsa'), ('flash', 'shok'), ('flash', 'temp'), ('flash', 'velx'), ('flash', 'vely'), ('flash', 'velz'), ('flash', 'vlxa'), ('flash', 'vlya'), ('flash', 'vlza')]\n"
     ]
    },
    {
     "name": "stderr",
     "output_type": "stream",
     "text": [
      "yt : [INFO     ] 2025-06-03 21:53:51,490 Saving plot density_slice0003.png\n",
      "yt : [INFO     ] 2025-06-03 21:53:51,677 Parameters: current_time              = 0.04005200785426079\n",
      "yt : [INFO     ] 2025-06-03 21:53:51,677 Parameters: domain_dimensions         = [8 8 1]\n",
      "yt : [INFO     ] 2025-06-03 21:53:51,678 Parameters: domain_left_edge          = [0. 0. 0.]\n",
      "yt : [INFO     ] 2025-06-03 21:53:51,678 Parameters: domain_right_edge         = [1. 1. 1.]\n",
      "yt : [INFO     ] 2025-06-03 21:53:51,679 Parameters: cosmological_simulation   = 0\n",
      "yt : [INFO     ] 2025-06-03 21:53:52,053 xlim = 0.000000 1.000000\n",
      "yt : [INFO     ] 2025-06-03 21:53:52,054 ylim = 0.000000 1.000000\n",
      "yt : [INFO     ] 2025-06-03 21:53:52,056 xlim = 0.000000 1.000000\n",
      "yt : [INFO     ] 2025-06-03 21:53:52,057 ylim = 0.000000 1.000000\n",
      "yt : [INFO     ] 2025-06-03 21:53:52,059 Making a fixed resolution buffer of (('flash', 'dens')) 800 by 800\n"
     ]
    },
    {
     "name": "stdout",
     "output_type": "stream",
     "text": [
      "[('flash', 'dena'), ('flash', 'dens'), ('flash', 'eina'), ('flash', 'eint'), ('flash', 'ener'), ('flash', 'enra'), ('flash', 'gamc'), ('flash', 'game'), ('flash', 'pres'), ('flash', 'prsa'), ('flash', 'shok'), ('flash', 'temp'), ('flash', 'velx'), ('flash', 'vely'), ('flash', 'velz'), ('flash', 'vlxa'), ('flash', 'vlya'), ('flash', 'vlza')]\n"
     ]
    },
    {
     "name": "stderr",
     "output_type": "stream",
     "text": [
      "yt : [INFO     ] 2025-06-03 21:53:52,320 Saving plot density_slice0004.png\n",
      "yt : [INFO     ] 2025-06-03 21:53:52,512 Parameters: current_time              = 0.05016158899765282\n",
      "yt : [INFO     ] 2025-06-03 21:53:52,513 Parameters: domain_dimensions         = [8 8 1]\n",
      "yt : [INFO     ] 2025-06-03 21:53:52,514 Parameters: domain_left_edge          = [0. 0. 0.]\n",
      "yt : [INFO     ] 2025-06-03 21:53:52,514 Parameters: domain_right_edge         = [1. 1. 1.]\n",
      "yt : [INFO     ] 2025-06-03 21:53:52,515 Parameters: cosmological_simulation   = 0\n",
      "yt : [INFO     ] 2025-06-03 21:53:52,887 xlim = 0.000000 1.000000\n",
      "yt : [INFO     ] 2025-06-03 21:53:52,888 ylim = 0.000000 1.000000\n",
      "yt : [INFO     ] 2025-06-03 21:53:52,890 xlim = 0.000000 1.000000\n",
      "yt : [INFO     ] 2025-06-03 21:53:52,891 ylim = 0.000000 1.000000\n",
      "yt : [INFO     ] 2025-06-03 21:53:52,893 Making a fixed resolution buffer of (('flash', 'dens')) 800 by 800\n"
     ]
    },
    {
     "name": "stdout",
     "output_type": "stream",
     "text": [
      "[('flash', 'dena'), ('flash', 'dens'), ('flash', 'eina'), ('flash', 'eint'), ('flash', 'ener'), ('flash', 'enra'), ('flash', 'gamc'), ('flash', 'game'), ('flash', 'pres'), ('flash', 'prsa'), ('flash', 'shok'), ('flash', 'temp'), ('flash', 'velx'), ('flash', 'vely'), ('flash', 'velz'), ('flash', 'vlxa'), ('flash', 'vlya'), ('flash', 'vlza')]\n"
     ]
    },
    {
     "name": "stderr",
     "output_type": "stream",
     "text": [
      "yt : [INFO     ] 2025-06-03 21:53:53,141 Saving plot density_slice0005.png\n"
     ]
    }
   ],
   "source": [
    "for i in range (1,6):\n",
    "    ds = yt.load(\n",
    "        f\"/home/oppenheimer/RelBlastwave/Sedov/sedov_hdf5_chk_{i:04d}\")\n",
    "\n",
    "    print(ds.field_list)\n",
    "\n",
    "    #make a slice plot\n",
    "    slc = yt.SlicePlot(ds, 'z', 'dens')\n",
    "    #plot density along x-axis\n",
    "    \n",
    "    # slc.set_cmap('density'', 'viridis')\n",
    "    # slc.set_zlim('density', -1, 1)\n",
    "    slc.annotate_title(\"Density Slice\")\n",
    "    slc.save(f\"density_slice{i:04d}.png\")\n"
   ]
  },
  {
   "cell_type": "code",
   "execution_count": 5,
   "id": "3cfdbf54",
   "metadata": {},
   "outputs": [
    {
     "name": "stderr",
     "output_type": "stream",
     "text": [
      "yt : [INFO     ] 2025-06-03 16:56:12,885 Parameters: current_time              = 0.015502052631918548\n",
      "yt : [INFO     ] 2025-06-03 16:56:12,886 Parameters: domain_dimensions         = [8 8 1]\n",
      "yt : [INFO     ] 2025-06-03 16:56:12,887 Parameters: domain_left_edge          = [0. 0. 0.]\n",
      "yt : [INFO     ] 2025-06-03 16:56:12,887 Parameters: domain_right_edge         = [1. 1. 1.]\n",
      "yt : [INFO     ] 2025-06-03 16:56:12,888 Parameters: cosmological_simulation   = 0\n",
      "yt : [INFO     ] 2025-06-03 16:56:13,204 xlim = 0.000000 1.000000\n",
      "yt : [INFO     ] 2025-06-03 16:56:13,205 ylim = 0.000000 1.000000\n",
      "yt : [INFO     ] 2025-06-03 16:56:13,207 xlim = 0.000000 1.000000\n",
      "yt : [INFO     ] 2025-06-03 16:56:13,207 ylim = 0.000000 1.000000\n",
      "yt : [INFO     ] 2025-06-03 16:56:13,209 Making a fixed resolution buffer of (('gas', 'temperature')) 800 by 800\n"
     ]
    },
    {
     "name": "stdout",
     "output_type": "stream",
     "text": [
      "[('flash', 'dena'), ('flash', 'dens'), ('flash', 'eina'), ('flash', 'eint'), ('flash', 'ener'), ('flash', 'enra'), ('flash', 'gamc'), ('flash', 'game'), ('flash', 'pres'), ('flash', 'prsa'), ('flash', 'shok'), ('flash', 'temp'), ('flash', 'velx'), ('flash', 'vely'), ('flash', 'velz'), ('flash', 'vlxa'), ('flash', 'vlya'), ('flash', 'vlza')]\n"
     ]
    },
    {
     "name": "stderr",
     "output_type": "stream",
     "text": [
      "yt : [INFO     ] 2025-06-03 16:56:13,698 Saving plot temperature_slice0001.png\n",
      "yt : [INFO     ] 2025-06-03 16:56:13,965 Parameters: current_time              = 0.02665692231930248\n",
      "yt : [INFO     ] 2025-06-03 16:56:13,966 Parameters: domain_dimensions         = [8 8 1]\n",
      "yt : [INFO     ] 2025-06-03 16:56:13,967 Parameters: domain_left_edge          = [0. 0. 0.]\n",
      "yt : [INFO     ] 2025-06-03 16:56:13,968 Parameters: domain_right_edge         = [1. 1. 1.]\n",
      "yt : [INFO     ] 2025-06-03 16:56:13,968 Parameters: cosmological_simulation   = 0\n",
      "yt : [INFO     ] 2025-06-03 16:56:14,292 xlim = 0.000000 1.000000\n",
      "yt : [INFO     ] 2025-06-03 16:56:14,293 ylim = 0.000000 1.000000\n",
      "yt : [INFO     ] 2025-06-03 16:56:14,296 xlim = 0.000000 1.000000\n",
      "yt : [INFO     ] 2025-06-03 16:56:14,297 ylim = 0.000000 1.000000\n",
      "yt : [INFO     ] 2025-06-03 16:56:14,298 Making a fixed resolution buffer of (('gas', 'temperature')) 800 by 800\n"
     ]
    },
    {
     "name": "stdout",
     "output_type": "stream",
     "text": [
      "[('flash', 'dena'), ('flash', 'dens'), ('flash', 'eina'), ('flash', 'eint'), ('flash', 'ener'), ('flash', 'enra'), ('flash', 'gamc'), ('flash', 'game'), ('flash', 'pres'), ('flash', 'prsa'), ('flash', 'shok'), ('flash', 'temp'), ('flash', 'velx'), ('flash', 'vely'), ('flash', 'velz'), ('flash', 'vlxa'), ('flash', 'vlya'), ('flash', 'vlza')]\n"
     ]
    },
    {
     "name": "stderr",
     "output_type": "stream",
     "text": [
      "yt : [INFO     ] 2025-06-03 16:56:14,589 Saving plot temperature_slice0002.png\n",
      "yt : [INFO     ] 2025-06-03 16:56:14,821 Parameters: current_time              = 0.048966661694070344\n",
      "yt : [INFO     ] 2025-06-03 16:56:14,822 Parameters: domain_dimensions         = [8 8 1]\n",
      "yt : [INFO     ] 2025-06-03 16:56:14,823 Parameters: domain_left_edge          = [0. 0. 0.]\n",
      "yt : [INFO     ] 2025-06-03 16:56:14,823 Parameters: domain_right_edge         = [1. 1. 1.]\n",
      "yt : [INFO     ] 2025-06-03 16:56:14,824 Parameters: cosmological_simulation   = 0\n",
      "yt : [INFO     ] 2025-06-03 16:56:15,217 xlim = 0.000000 1.000000\n",
      "yt : [INFO     ] 2025-06-03 16:56:15,218 ylim = 0.000000 1.000000\n",
      "yt : [INFO     ] 2025-06-03 16:56:15,220 xlim = 0.000000 1.000000\n",
      "yt : [INFO     ] 2025-06-03 16:56:15,221 ylim = 0.000000 1.000000\n",
      "yt : [INFO     ] 2025-06-03 16:56:15,222 Making a fixed resolution buffer of (('gas', 'temperature')) 800 by 800\n"
     ]
    },
    {
     "name": "stdout",
     "output_type": "stream",
     "text": [
      "[('flash', 'dena'), ('flash', 'dens'), ('flash', 'eina'), ('flash', 'eint'), ('flash', 'ener'), ('flash', 'enra'), ('flash', 'gamc'), ('flash', 'game'), ('flash', 'pres'), ('flash', 'prsa'), ('flash', 'shok'), ('flash', 'temp'), ('flash', 'velx'), ('flash', 'vely'), ('flash', 'velz'), ('flash', 'vlxa'), ('flash', 'vlya'), ('flash', 'vlza')]\n"
     ]
    },
    {
     "name": "stderr",
     "output_type": "stream",
     "text": [
      "yt : [INFO     ] 2025-06-03 16:56:15,514 Saving plot temperature_slice0003.png\n",
      "yt : [INFO     ] 2025-06-03 16:56:15,760 Parameters: current_time              = 0.09358614044360608\n",
      "yt : [INFO     ] 2025-06-03 16:56:15,761 Parameters: domain_dimensions         = [8 8 1]\n",
      "yt : [INFO     ] 2025-06-03 16:56:15,762 Parameters: domain_left_edge          = [0. 0. 0.]\n",
      "yt : [INFO     ] 2025-06-03 16:56:15,763 Parameters: domain_right_edge         = [1. 1. 1.]\n",
      "yt : [INFO     ] 2025-06-03 16:56:15,763 Parameters: cosmological_simulation   = 0\n",
      "yt : [INFO     ] 2025-06-03 16:56:16,216 xlim = 0.000000 1.000000\n",
      "yt : [INFO     ] 2025-06-03 16:56:16,216 ylim = 0.000000 1.000000\n",
      "yt : [INFO     ] 2025-06-03 16:56:16,218 xlim = 0.000000 1.000000\n",
      "yt : [INFO     ] 2025-06-03 16:56:16,219 ylim = 0.000000 1.000000\n",
      "yt : [INFO     ] 2025-06-03 16:56:16,220 Making a fixed resolution buffer of (('gas', 'temperature')) 800 by 800\n"
     ]
    },
    {
     "name": "stdout",
     "output_type": "stream",
     "text": [
      "[('flash', 'dena'), ('flash', 'dens'), ('flash', 'eina'), ('flash', 'eint'), ('flash', 'ener'), ('flash', 'enra'), ('flash', 'gamc'), ('flash', 'game'), ('flash', 'pres'), ('flash', 'prsa'), ('flash', 'shok'), ('flash', 'temp'), ('flash', 'velx'), ('flash', 'vely'), ('flash', 'velz'), ('flash', 'vlxa'), ('flash', 'vlya'), ('flash', 'vlza')]\n"
     ]
    },
    {
     "name": "stderr",
     "output_type": "stream",
     "text": [
      "yt : [INFO     ] 2025-06-03 16:56:16,501 Saving plot temperature_slice0004.png\n"
     ]
    },
    {
     "data": {
      "application/javascript": "/* Put everything inside the global mpl namespace */\n/* global mpl */\nwindow.mpl = {};\n\nmpl.get_websocket_type = function () {\n    if (typeof WebSocket !== 'undefined') {\n        return WebSocket;\n    } else if (typeof MozWebSocket !== 'undefined') {\n        return MozWebSocket;\n    } else {\n        alert(\n            'Your browser does not have WebSocket support. ' +\n                'Please try Chrome, Safari or Firefox ≥ 6. ' +\n                'Firefox 4 and 5 are also supported but you ' +\n                'have to enable WebSockets in about:config.'\n        );\n    }\n};\n\nmpl.figure = function (figure_id, websocket, ondownload, parent_element) {\n    this.id = figure_id;\n\n    this.ws = websocket;\n\n    this.supports_binary = this.ws.binaryType !== undefined;\n\n    if (!this.supports_binary) {\n        var warnings = document.getElementById('mpl-warnings');\n        if (warnings) {\n            warnings.style.display = 'block';\n            warnings.textContent =\n                'This browser does not support binary websocket messages. ' +\n                'Performance may be slow.';\n        }\n    }\n\n    this.imageObj = new Image();\n\n    this.context = undefined;\n    this.message = undefined;\n    this.canvas = undefined;\n    this.rubberband_canvas = undefined;\n    this.rubberband_context = undefined;\n    this.format_dropdown = undefined;\n\n    this.image_mode = 'full';\n\n    this.root = document.createElement('div');\n    this.root.setAttribute('style', 'display: inline-block');\n    this._root_extra_style(this.root);\n\n    parent_element.appendChild(this.root);\n\n    this._init_header(this);\n    this._init_canvas(this);\n    this._init_toolbar(this);\n\n    var fig = this;\n\n    this.waiting = false;\n\n    this.ws.onopen = function () {\n        fig.send_message('supports_binary', { value: fig.supports_binary });\n        fig.send_message('send_image_mode', {});\n        if (fig.ratio !== 1) {\n            fig.send_message('set_device_pixel_ratio', {\n                device_pixel_ratio: fig.ratio,\n            });\n        }\n        fig.send_message('refresh', {});\n    };\n\n    this.imageObj.onload = function () {\n        if (fig.image_mode === 'full') {\n            // Full images could contain transparency (where diff images\n            // almost always do), so we need to clear the canvas so that\n            // there is no ghosting.\n            fig.context.clearRect(0, 0, fig.canvas.width, fig.canvas.height);\n        }\n        fig.context.drawImage(fig.imageObj, 0, 0);\n    };\n\n    this.imageObj.onunload = function () {\n        fig.ws.close();\n    };\n\n    this.ws.onmessage = this._make_on_message_function(this);\n\n    this.ondownload = ondownload;\n};\n\nmpl.figure.prototype._init_header = function () {\n    var titlebar = document.createElement('div');\n    titlebar.classList =\n        'ui-dialog-titlebar ui-widget-header ui-corner-all ui-helper-clearfix';\n    var titletext = document.createElement('div');\n    titletext.classList = 'ui-dialog-title';\n    titletext.setAttribute(\n        'style',\n        'width: 100%; text-align: center; padding: 3px;'\n    );\n    titlebar.appendChild(titletext);\n    this.root.appendChild(titlebar);\n    this.header = titletext;\n};\n\nmpl.figure.prototype._canvas_extra_style = function (_canvas_div) {};\n\nmpl.figure.prototype._root_extra_style = function (_canvas_div) {};\n\nmpl.figure.prototype._init_canvas = function () {\n    var fig = this;\n\n    var canvas_div = (this.canvas_div = document.createElement('div'));\n    canvas_div.setAttribute('tabindex', '0');\n    canvas_div.setAttribute(\n        'style',\n        'border: 1px solid #ddd;' +\n            'box-sizing: content-box;' +\n            'clear: both;' +\n            'min-height: 1px;' +\n            'min-width: 1px;' +\n            'outline: 0;' +\n            'overflow: hidden;' +\n            'position: relative;' +\n            'resize: both;' +\n            'z-index: 2;'\n    );\n\n    function on_keyboard_event_closure(name) {\n        return function (event) {\n            return fig.key_event(event, name);\n        };\n    }\n\n    canvas_div.addEventListener(\n        'keydown',\n        on_keyboard_event_closure('key_press')\n    );\n    canvas_div.addEventListener(\n        'keyup',\n        on_keyboard_event_closure('key_release')\n    );\n\n    this._canvas_extra_style(canvas_div);\n    this.root.appendChild(canvas_div);\n\n    var canvas = (this.canvas = document.createElement('canvas'));\n    canvas.classList.add('mpl-canvas');\n    canvas.setAttribute(\n        'style',\n        'box-sizing: content-box;' +\n            'pointer-events: none;' +\n            'position: relative;' +\n            'z-index: 0;'\n    );\n\n    this.context = canvas.getContext('2d');\n\n    var backingStore =\n        this.context.backingStorePixelRatio ||\n        this.context.webkitBackingStorePixelRatio ||\n        this.context.mozBackingStorePixelRatio ||\n        this.context.msBackingStorePixelRatio ||\n        this.context.oBackingStorePixelRatio ||\n        this.context.backingStorePixelRatio ||\n        1;\n\n    this.ratio = (window.devicePixelRatio || 1) / backingStore;\n\n    var rubberband_canvas = (this.rubberband_canvas = document.createElement(\n        'canvas'\n    ));\n    rubberband_canvas.setAttribute(\n        'style',\n        'box-sizing: content-box;' +\n            'left: 0;' +\n            'pointer-events: none;' +\n            'position: absolute;' +\n            'top: 0;' +\n            'z-index: 1;'\n    );\n\n    // Apply a ponyfill if ResizeObserver is not implemented by browser.\n    if (this.ResizeObserver === undefined) {\n        if (window.ResizeObserver !== undefined) {\n            this.ResizeObserver = window.ResizeObserver;\n        } else {\n            var obs = _JSXTOOLS_RESIZE_OBSERVER({});\n            this.ResizeObserver = obs.ResizeObserver;\n        }\n    }\n\n    this.resizeObserverInstance = new this.ResizeObserver(function (entries) {\n        // There's no need to resize if the WebSocket is not connected:\n        // - If it is still connecting, then we will get an initial resize from\n        //   Python once it connects.\n        // - If it has disconnected, then resizing will clear the canvas and\n        //   never get anything back to refill it, so better to not resize and\n        //   keep something visible.\n        if (fig.ws.readyState != 1) {\n            return;\n        }\n        var nentries = entries.length;\n        for (var i = 0; i < nentries; i++) {\n            var entry = entries[i];\n            var width, height;\n            if (entry.contentBoxSize) {\n                if (entry.contentBoxSize instanceof Array) {\n                    // Chrome 84 implements new version of spec.\n                    width = entry.contentBoxSize[0].inlineSize;\n                    height = entry.contentBoxSize[0].blockSize;\n                } else {\n                    // Firefox implements old version of spec.\n                    width = entry.contentBoxSize.inlineSize;\n                    height = entry.contentBoxSize.blockSize;\n                }\n            } else {\n                // Chrome <84 implements even older version of spec.\n                width = entry.contentRect.width;\n                height = entry.contentRect.height;\n            }\n\n            // Keep the size of the canvas and rubber band canvas in sync with\n            // the canvas container.\n            if (entry.devicePixelContentBoxSize) {\n                // Chrome 84 implements new version of spec.\n                canvas.setAttribute(\n                    'width',\n                    entry.devicePixelContentBoxSize[0].inlineSize\n                );\n                canvas.setAttribute(\n                    'height',\n                    entry.devicePixelContentBoxSize[0].blockSize\n                );\n            } else {\n                canvas.setAttribute('width', width * fig.ratio);\n                canvas.setAttribute('height', height * fig.ratio);\n            }\n            /* This rescales the canvas back to display pixels, so that it\n             * appears correct on HiDPI screens. */\n            canvas.style.width = width + 'px';\n            canvas.style.height = height + 'px';\n\n            rubberband_canvas.setAttribute('width', width);\n            rubberband_canvas.setAttribute('height', height);\n\n            // And update the size in Python. We ignore the initial 0/0 size\n            // that occurs as the element is placed into the DOM, which should\n            // otherwise not happen due to the minimum size styling.\n            if (width != 0 && height != 0) {\n                fig.request_resize(width, height);\n            }\n        }\n    });\n    this.resizeObserverInstance.observe(canvas_div);\n\n    function on_mouse_event_closure(name) {\n        /* User Agent sniffing is bad, but WebKit is busted:\n         * https://bugs.webkit.org/show_bug.cgi?id=144526\n         * https://bugs.webkit.org/show_bug.cgi?id=181818\n         * The worst that happens here is that they get an extra browser\n         * selection when dragging, if this check fails to catch them.\n         */\n        var UA = navigator.userAgent;\n        var isWebKit = /AppleWebKit/.test(UA) && !/Chrome/.test(UA);\n        if(isWebKit) {\n            return function (event) {\n                /* This prevents the web browser from automatically changing to\n                 * the text insertion cursor when the button is pressed. We\n                 * want to control all of the cursor setting manually through\n                 * the 'cursor' event from matplotlib */\n                event.preventDefault()\n                return fig.mouse_event(event, name);\n            };\n        } else {\n            return function (event) {\n                return fig.mouse_event(event, name);\n            };\n        }\n    }\n\n    canvas_div.addEventListener(\n        'mousedown',\n        on_mouse_event_closure('button_press')\n    );\n    canvas_div.addEventListener(\n        'mouseup',\n        on_mouse_event_closure('button_release')\n    );\n    canvas_div.addEventListener(\n        'dblclick',\n        on_mouse_event_closure('dblclick')\n    );\n    // Throttle sequential mouse events to 1 every 20ms.\n    canvas_div.addEventListener(\n        'mousemove',\n        on_mouse_event_closure('motion_notify')\n    );\n\n    canvas_div.addEventListener(\n        'mouseenter',\n        on_mouse_event_closure('figure_enter')\n    );\n    canvas_div.addEventListener(\n        'mouseleave',\n        on_mouse_event_closure('figure_leave')\n    );\n\n    canvas_div.addEventListener('wheel', function (event) {\n        if (event.deltaY < 0) {\n            event.step = 1;\n        } else {\n            event.step = -1;\n        }\n        on_mouse_event_closure('scroll')(event);\n    });\n\n    canvas_div.appendChild(canvas);\n    canvas_div.appendChild(rubberband_canvas);\n\n    this.rubberband_context = rubberband_canvas.getContext('2d');\n    this.rubberband_context.strokeStyle = '#000000';\n\n    this._resize_canvas = function (width, height, forward) {\n        if (forward) {\n            canvas_div.style.width = width + 'px';\n            canvas_div.style.height = height + 'px';\n        }\n    };\n\n    // Disable right mouse context menu.\n    canvas_div.addEventListener('contextmenu', function (_e) {\n        event.preventDefault();\n        return false;\n    });\n\n    function set_focus() {\n        canvas.focus();\n        canvas_div.focus();\n    }\n\n    window.setTimeout(set_focus, 100);\n};\n\nmpl.figure.prototype._init_toolbar = function () {\n    var fig = this;\n\n    var toolbar = document.createElement('div');\n    toolbar.classList = 'mpl-toolbar';\n    this.root.appendChild(toolbar);\n\n    function on_click_closure(name) {\n        return function (_event) {\n            return fig.toolbar_button_onclick(name);\n        };\n    }\n\n    function on_mouseover_closure(tooltip) {\n        return function (event) {\n            if (!event.currentTarget.disabled) {\n                return fig.toolbar_button_onmouseover(tooltip);\n            }\n        };\n    }\n\n    fig.buttons = {};\n    var buttonGroup = document.createElement('div');\n    buttonGroup.classList = 'mpl-button-group';\n    for (var toolbar_ind in mpl.toolbar_items) {\n        var name = mpl.toolbar_items[toolbar_ind][0];\n        var tooltip = mpl.toolbar_items[toolbar_ind][1];\n        var image = mpl.toolbar_items[toolbar_ind][2];\n        var method_name = mpl.toolbar_items[toolbar_ind][3];\n\n        if (!name) {\n            /* Instead of a spacer, we start a new button group. */\n            if (buttonGroup.hasChildNodes()) {\n                toolbar.appendChild(buttonGroup);\n            }\n            buttonGroup = document.createElement('div');\n            buttonGroup.classList = 'mpl-button-group';\n            continue;\n        }\n\n        var button = (fig.buttons[name] = document.createElement('button'));\n        button.classList = 'mpl-widget';\n        button.setAttribute('role', 'button');\n        button.setAttribute('aria-disabled', 'false');\n        button.addEventListener('click', on_click_closure(method_name));\n        button.addEventListener('mouseover', on_mouseover_closure(tooltip));\n\n        var icon_img = document.createElement('img');\n        icon_img.src = '_images/' + image + '.png';\n        icon_img.srcset = '_images/' + image + '_large.png 2x';\n        icon_img.alt = tooltip;\n        button.appendChild(icon_img);\n\n        buttonGroup.appendChild(button);\n    }\n\n    if (buttonGroup.hasChildNodes()) {\n        toolbar.appendChild(buttonGroup);\n    }\n\n    var fmt_picker = document.createElement('select');\n    fmt_picker.classList = 'mpl-widget';\n    toolbar.appendChild(fmt_picker);\n    this.format_dropdown = fmt_picker;\n\n    for (var ind in mpl.extensions) {\n        var fmt = mpl.extensions[ind];\n        var option = document.createElement('option');\n        option.selected = fmt === mpl.default_extension;\n        option.innerHTML = fmt;\n        fmt_picker.appendChild(option);\n    }\n\n    var status_bar = document.createElement('span');\n    status_bar.classList = 'mpl-message';\n    toolbar.appendChild(status_bar);\n    this.message = status_bar;\n};\n\nmpl.figure.prototype.request_resize = function (x_pixels, y_pixels) {\n    // Request matplotlib to resize the figure. Matplotlib will then trigger a resize in the client,\n    // which will in turn request a refresh of the image.\n    this.send_message('resize', { width: x_pixels, height: y_pixels });\n};\n\nmpl.figure.prototype.send_message = function (type, properties) {\n    properties['type'] = type;\n    properties['figure_id'] = this.id;\n    this.ws.send(JSON.stringify(properties));\n};\n\nmpl.figure.prototype.send_draw_message = function () {\n    if (!this.waiting) {\n        this.waiting = true;\n        this.ws.send(JSON.stringify({ type: 'draw', figure_id: this.id }));\n    }\n};\n\nmpl.figure.prototype.handle_save = function (fig, _msg) {\n    var format_dropdown = fig.format_dropdown;\n    var format = format_dropdown.options[format_dropdown.selectedIndex].value;\n    fig.ondownload(fig, format);\n};\n\nmpl.figure.prototype.handle_resize = function (fig, msg) {\n    var size = msg['size'];\n    if (size[0] !== fig.canvas.width || size[1] !== fig.canvas.height) {\n        fig._resize_canvas(size[0], size[1], msg['forward']);\n        fig.send_message('refresh', {});\n    }\n};\n\nmpl.figure.prototype.handle_rubberband = function (fig, msg) {\n    var x0 = msg['x0'] / fig.ratio;\n    var y0 = (fig.canvas.height - msg['y0']) / fig.ratio;\n    var x1 = msg['x1'] / fig.ratio;\n    var y1 = (fig.canvas.height - msg['y1']) / fig.ratio;\n    x0 = Math.floor(x0) + 0.5;\n    y0 = Math.floor(y0) + 0.5;\n    x1 = Math.floor(x1) + 0.5;\n    y1 = Math.floor(y1) + 0.5;\n    var min_x = Math.min(x0, x1);\n    var min_y = Math.min(y0, y1);\n    var width = Math.abs(x1 - x0);\n    var height = Math.abs(y1 - y0);\n\n    fig.rubberband_context.clearRect(\n        0,\n        0,\n        fig.canvas.width / fig.ratio,\n        fig.canvas.height / fig.ratio\n    );\n\n    fig.rubberband_context.strokeRect(min_x, min_y, width, height);\n};\n\nmpl.figure.prototype.handle_figure_label = function (fig, msg) {\n    // Updates the figure title.\n    fig.header.textContent = msg['label'];\n};\n\nmpl.figure.prototype.handle_cursor = function (fig, msg) {\n    fig.canvas_div.style.cursor = msg['cursor'];\n};\n\nmpl.figure.prototype.handle_message = function (fig, msg) {\n    fig.message.textContent = msg['message'];\n};\n\nmpl.figure.prototype.handle_draw = function (fig, _msg) {\n    // Request the server to send over a new figure.\n    fig.send_draw_message();\n};\n\nmpl.figure.prototype.handle_image_mode = function (fig, msg) {\n    fig.image_mode = msg['mode'];\n};\n\nmpl.figure.prototype.handle_history_buttons = function (fig, msg) {\n    for (var key in msg) {\n        if (!(key in fig.buttons)) {\n            continue;\n        }\n        fig.buttons[key].disabled = !msg[key];\n        fig.buttons[key].setAttribute('aria-disabled', !msg[key]);\n    }\n};\n\nmpl.figure.prototype.handle_navigate_mode = function (fig, msg) {\n    if (msg['mode'] === 'PAN') {\n        fig.buttons['Pan'].classList.add('active');\n        fig.buttons['Zoom'].classList.remove('active');\n    } else if (msg['mode'] === 'ZOOM') {\n        fig.buttons['Pan'].classList.remove('active');\n        fig.buttons['Zoom'].classList.add('active');\n    } else {\n        fig.buttons['Pan'].classList.remove('active');\n        fig.buttons['Zoom'].classList.remove('active');\n    }\n};\n\nmpl.figure.prototype.updated_canvas_event = function () {\n    // Called whenever the canvas gets updated.\n    this.send_message('ack', {});\n};\n\n// A function to construct a web socket function for onmessage handling.\n// Called in the figure constructor.\nmpl.figure.prototype._make_on_message_function = function (fig) {\n    return function socket_on_message(evt) {\n        if (evt.data instanceof Blob) {\n            var img = evt.data;\n            if (img.type !== 'image/png') {\n                /* FIXME: We get \"Resource interpreted as Image but\n                 * transferred with MIME type text/plain:\" errors on\n                 * Chrome.  But how to set the MIME type?  It doesn't seem\n                 * to be part of the websocket stream */\n                img.type = 'image/png';\n            }\n\n            /* Free the memory for the previous frames */\n            if (fig.imageObj.src) {\n                (window.URL || window.webkitURL).revokeObjectURL(\n                    fig.imageObj.src\n                );\n            }\n\n            fig.imageObj.src = (window.URL || window.webkitURL).createObjectURL(\n                img\n            );\n            fig.updated_canvas_event();\n            fig.waiting = false;\n            return;\n        } else if (\n            typeof evt.data === 'string' &&\n            evt.data.slice(0, 21) === 'data:image/png;base64'\n        ) {\n            fig.imageObj.src = evt.data;\n            fig.updated_canvas_event();\n            fig.waiting = false;\n            return;\n        }\n\n        var msg = JSON.parse(evt.data);\n        var msg_type = msg['type'];\n\n        // Call the  \"handle_{type}\" callback, which takes\n        // the figure and JSON message as its only arguments.\n        try {\n            var callback = fig['handle_' + msg_type];\n        } catch (e) {\n            console.log(\n                \"No handler for the '\" + msg_type + \"' message type: \",\n                msg\n            );\n            return;\n        }\n\n        if (callback) {\n            try {\n                // console.log(\"Handling '\" + msg_type + \"' message: \", msg);\n                callback(fig, msg);\n            } catch (e) {\n                console.log(\n                    \"Exception inside the 'handler_\" + msg_type + \"' callback:\",\n                    e,\n                    e.stack,\n                    msg\n                );\n            }\n        }\n    };\n};\n\nfunction getModifiers(event) {\n    var mods = [];\n    if (event.ctrlKey) {\n        mods.push('ctrl');\n    }\n    if (event.altKey) {\n        mods.push('alt');\n    }\n    if (event.shiftKey) {\n        mods.push('shift');\n    }\n    if (event.metaKey) {\n        mods.push('meta');\n    }\n    return mods;\n}\n\n/*\n * return a copy of an object with only non-object keys\n * we need this to avoid circular references\n * https://stackoverflow.com/a/24161582/3208463\n */\nfunction simpleKeys(original) {\n    return Object.keys(original).reduce(function (obj, key) {\n        if (typeof original[key] !== 'object') {\n            obj[key] = original[key];\n        }\n        return obj;\n    }, {});\n}\n\nmpl.figure.prototype.mouse_event = function (event, name) {\n    if (name === 'button_press') {\n        this.canvas.focus();\n        this.canvas_div.focus();\n    }\n\n    // from https://stackoverflow.com/q/1114465\n    var boundingRect = this.canvas.getBoundingClientRect();\n    var x = (event.clientX - boundingRect.left) * this.ratio;\n    var y = (event.clientY - boundingRect.top) * this.ratio;\n\n    this.send_message(name, {\n        x: x,\n        y: y,\n        button: event.button,\n        step: event.step,\n        buttons: event.buttons,\n        modifiers: getModifiers(event),\n        guiEvent: simpleKeys(event),\n    });\n\n    return false;\n};\n\nmpl.figure.prototype._key_event_extra = function (_event, _name) {\n    // Handle any extra behaviour associated with a key event\n};\n\nmpl.figure.prototype.key_event = function (event, name) {\n    // Prevent repeat events\n    if (name === 'key_press') {\n        if (event.key === this._key) {\n            return;\n        } else {\n            this._key = event.key;\n        }\n    }\n    if (name === 'key_release') {\n        this._key = null;\n    }\n\n    var value = '';\n    if (event.ctrlKey && event.key !== 'Control') {\n        value += 'ctrl+';\n    }\n    else if (event.altKey && event.key !== 'Alt') {\n        value += 'alt+';\n    }\n    else if (event.shiftKey && event.key !== 'Shift') {\n        value += 'shift+';\n    }\n\n    value += 'k' + event.key;\n\n    this._key_event_extra(event, name);\n\n    this.send_message(name, { key: value, guiEvent: simpleKeys(event) });\n    return false;\n};\n\nmpl.figure.prototype.toolbar_button_onclick = function (name) {\n    if (name === 'download') {\n        this.handle_save(this, null);\n    } else {\n        this.send_message('toolbar_button', { name: name });\n    }\n};\n\nmpl.figure.prototype.toolbar_button_onmouseover = function (tooltip) {\n    this.message.textContent = tooltip;\n};\n\n///////////////// REMAINING CONTENT GENERATED BY embed_js.py /////////////////\n// prettier-ignore\nvar _JSXTOOLS_RESIZE_OBSERVER=function(A){var t,i=new WeakMap,n=new WeakMap,a=new WeakMap,r=new WeakMap,o=new Set;function s(e){if(!(this instanceof s))throw new TypeError(\"Constructor requires 'new' operator\");i.set(this,e)}function h(){throw new TypeError(\"Function is not a constructor\")}function c(e,t,i,n){e=0 in arguments?Number(arguments[0]):0,t=1 in arguments?Number(arguments[1]):0,i=2 in arguments?Number(arguments[2]):0,n=3 in arguments?Number(arguments[3]):0,this.right=(this.x=this.left=e)+(this.width=i),this.bottom=(this.y=this.top=t)+(this.height=n),Object.freeze(this)}function d(){t=requestAnimationFrame(d);var s=new WeakMap,p=new Set;o.forEach((function(t){r.get(t).forEach((function(i){var r=t instanceof window.SVGElement,o=a.get(t),d=r?0:parseFloat(o.paddingTop),f=r?0:parseFloat(o.paddingRight),l=r?0:parseFloat(o.paddingBottom),u=r?0:parseFloat(o.paddingLeft),g=r?0:parseFloat(o.borderTopWidth),m=r?0:parseFloat(o.borderRightWidth),w=r?0:parseFloat(o.borderBottomWidth),b=u+f,F=d+l,v=(r?0:parseFloat(o.borderLeftWidth))+m,W=g+w,y=r?0:t.offsetHeight-W-t.clientHeight,E=r?0:t.offsetWidth-v-t.clientWidth,R=b+v,z=F+W,M=r?t.width:parseFloat(o.width)-R-E,O=r?t.height:parseFloat(o.height)-z-y;if(n.has(t)){var k=n.get(t);if(k[0]===M&&k[1]===O)return}n.set(t,[M,O]);var S=Object.create(h.prototype);S.target=t,S.contentRect=new c(u,d,M,O),s.has(i)||(s.set(i,[]),p.add(i)),s.get(i).push(S)}))})),p.forEach((function(e){i.get(e).call(e,s.get(e),e)}))}return s.prototype.observe=function(i){if(i instanceof window.Element){r.has(i)||(r.set(i,new Set),o.add(i),a.set(i,window.getComputedStyle(i)));var n=r.get(i);n.has(this)||n.add(this),cancelAnimationFrame(t),t=requestAnimationFrame(d)}},s.prototype.unobserve=function(i){if(i instanceof window.Element&&r.has(i)){var n=r.get(i);n.has(this)&&(n.delete(this),n.size||(r.delete(i),o.delete(i))),n.size||r.delete(i),o.size||cancelAnimationFrame(t)}},A.DOMRectReadOnly=c,A.ResizeObserver=s,A.ResizeObserverEntry=h,A}; // eslint-disable-line\nmpl.toolbar_items = [[\"Home\", \"Reset original view\", \"fa fa-home\", \"home\"], [\"Back\", \"Back to previous view\", \"fa fa-arrow-left\", \"back\"], [\"Forward\", \"Forward to next view\", \"fa fa-arrow-right\", \"forward\"], [\"\", \"\", \"\", \"\"], [\"Pan\", \"Left button pans, Right button zooms\\nx/y fixes axis, CTRL fixes aspect\", \"fa fa-arrows\", \"pan\"], [\"Zoom\", \"Zoom to rectangle\\nx/y fixes axis\", \"fa fa-square-o\", \"zoom\"], [\"\", \"\", \"\", \"\"], [\"Download\", \"Download plot\", \"fa fa-floppy-o\", \"download\"]];\n\nmpl.extensions = [\"eps\", \"jpeg\", \"pgf\", \"pdf\", \"png\", \"ps\", \"raw\", \"svg\", \"tif\", \"webp\"];\n\nmpl.default_extension = \"png\";/* global mpl */\n\nvar comm_websocket_adapter = function (comm) {\n    // Create a \"websocket\"-like object which calls the given IPython comm\n    // object with the appropriate methods. Currently this is a non binary\n    // socket, so there is still some room for performance tuning.\n    var ws = {};\n\n    ws.binaryType = comm.kernel.ws.binaryType;\n    ws.readyState = comm.kernel.ws.readyState;\n    function updateReadyState(_event) {\n        if (comm.kernel.ws) {\n            ws.readyState = comm.kernel.ws.readyState;\n        } else {\n            ws.readyState = 3; // Closed state.\n        }\n    }\n    comm.kernel.ws.addEventListener('open', updateReadyState);\n    comm.kernel.ws.addEventListener('close', updateReadyState);\n    comm.kernel.ws.addEventListener('error', updateReadyState);\n\n    ws.close = function () {\n        comm.close();\n    };\n    ws.send = function (m) {\n        //console.log('sending', m);\n        comm.send(m);\n    };\n    // Register the callback with on_msg.\n    comm.on_msg(function (msg) {\n        //console.log('receiving', msg['content']['data'], msg);\n        var data = msg['content']['data'];\n        if (data['blob'] !== undefined) {\n            data = {\n                data: new Blob(msg['buffers'], { type: data['blob'] }),\n            };\n        }\n        // Pass the mpl event to the overridden (by mpl) onmessage function.\n        ws.onmessage(data);\n    });\n    return ws;\n};\n\nmpl.mpl_figure_comm = function (comm, msg) {\n    // This is the function which gets called when the mpl process\n    // starts-up an IPython Comm through the \"matplotlib\" channel.\n\n    var id = msg.content.data.id;\n    // Get hold of the div created by the display call when the Comm\n    // socket was opened in Python.\n    var element = document.getElementById(id);\n    var ws_proxy = comm_websocket_adapter(comm);\n\n    function ondownload(figure, _format) {\n        window.open(figure.canvas.toDataURL());\n    }\n\n    var fig = new mpl.figure(id, ws_proxy, ondownload, element);\n\n    // Call onopen now - mpl needs it, as it is assuming we've passed it a real\n    // web socket which is closed, not our websocket->open comm proxy.\n    ws_proxy.onopen();\n\n    fig.parent_element = element;\n    fig.cell_info = mpl.find_output_cell(\"<div id='\" + id + \"'></div>\");\n    if (!fig.cell_info) {\n        console.error('Failed to find cell for figure', id, fig);\n        return;\n    }\n    fig.cell_info[0].output_area.element.on(\n        'cleared',\n        { fig: fig },\n        fig._remove_fig_handler\n    );\n};\n\nmpl.figure.prototype.handle_close = function (fig, msg) {\n    var width = fig.canvas.width / fig.ratio;\n    fig.cell_info[0].output_area.element.off(\n        'cleared',\n        fig._remove_fig_handler\n    );\n    fig.resizeObserverInstance.unobserve(fig.canvas_div);\n\n    // Update the output cell to use the data from the current canvas.\n    fig.push_to_output();\n    var dataURL = fig.canvas.toDataURL();\n    // Re-enable the keyboard manager in IPython - without this line, in FF,\n    // the notebook keyboard shortcuts fail.\n    IPython.keyboard_manager.enable();\n    fig.parent_element.innerHTML =\n        '<img src=\"' + dataURL + '\" width=\"' + width + '\">';\n    fig.close_ws(fig, msg);\n};\n\nmpl.figure.prototype.close_ws = function (fig, msg) {\n    fig.send_message('closing', msg);\n    // fig.ws.close()\n};\n\nmpl.figure.prototype.push_to_output = function (_remove_interactive) {\n    // Turn the data on the canvas into data in the output cell.\n    var width = this.canvas.width / this.ratio;\n    var dataURL = this.canvas.toDataURL();\n    this.cell_info[1]['text/html'] =\n        '<img src=\"' + dataURL + '\" width=\"' + width + '\">';\n};\n\nmpl.figure.prototype.updated_canvas_event = function () {\n    // Tell IPython that the notebook contents must change.\n    IPython.notebook.set_dirty(true);\n    this.send_message('ack', {});\n    var fig = this;\n    // Wait a second, then push the new image to the DOM so\n    // that it is saved nicely (might be nice to debounce this).\n    setTimeout(function () {\n        fig.push_to_output();\n    }, 1000);\n};\n\nmpl.figure.prototype._init_toolbar = function () {\n    var fig = this;\n\n    var toolbar = document.createElement('div');\n    toolbar.classList = 'btn-toolbar';\n    this.root.appendChild(toolbar);\n\n    function on_click_closure(name) {\n        return function (_event) {\n            return fig.toolbar_button_onclick(name);\n        };\n    }\n\n    function on_mouseover_closure(tooltip) {\n        return function (event) {\n            if (!event.currentTarget.disabled) {\n                return fig.toolbar_button_onmouseover(tooltip);\n            }\n        };\n    }\n\n    fig.buttons = {};\n    var buttonGroup = document.createElement('div');\n    buttonGroup.classList = 'btn-group';\n    var button;\n    for (var toolbar_ind in mpl.toolbar_items) {\n        var name = mpl.toolbar_items[toolbar_ind][0];\n        var tooltip = mpl.toolbar_items[toolbar_ind][1];\n        var image = mpl.toolbar_items[toolbar_ind][2];\n        var method_name = mpl.toolbar_items[toolbar_ind][3];\n\n        if (!name) {\n            /* Instead of a spacer, we start a new button group. */\n            if (buttonGroup.hasChildNodes()) {\n                toolbar.appendChild(buttonGroup);\n            }\n            buttonGroup = document.createElement('div');\n            buttonGroup.classList = 'btn-group';\n            continue;\n        }\n\n        button = fig.buttons[name] = document.createElement('button');\n        button.classList = 'btn btn-default';\n        button.href = '#';\n        button.title = name;\n        button.innerHTML = '<i class=\"fa ' + image + ' fa-lg\"></i>';\n        button.addEventListener('click', on_click_closure(method_name));\n        button.addEventListener('mouseover', on_mouseover_closure(tooltip));\n        buttonGroup.appendChild(button);\n    }\n\n    if (buttonGroup.hasChildNodes()) {\n        toolbar.appendChild(buttonGroup);\n    }\n\n    // Add the status bar.\n    var status_bar = document.createElement('span');\n    status_bar.classList = 'mpl-message pull-right';\n    toolbar.appendChild(status_bar);\n    this.message = status_bar;\n\n    // Add the close button to the window.\n    var buttongrp = document.createElement('div');\n    buttongrp.classList = 'btn-group inline pull-right';\n    button = document.createElement('button');\n    button.classList = 'btn btn-mini btn-primary';\n    button.href = '#';\n    button.title = 'Stop Interaction';\n    button.innerHTML = '<i class=\"fa fa-power-off icon-remove icon-large\"></i>';\n    button.addEventListener('click', function (_evt) {\n        fig.handle_close(fig, {});\n    });\n    button.addEventListener(\n        'mouseover',\n        on_mouseover_closure('Stop Interaction')\n    );\n    buttongrp.appendChild(button);\n    var titlebar = this.root.querySelector('.ui-dialog-titlebar');\n    titlebar.insertBefore(buttongrp, titlebar.firstChild);\n};\n\nmpl.figure.prototype._remove_fig_handler = function (event) {\n    var fig = event.data.fig;\n    if (event.target !== this) {\n        // Ignore bubbled events from children.\n        return;\n    }\n    fig.close_ws(fig, {});\n};\n\nmpl.figure.prototype._root_extra_style = function (el) {\n    el.style.boxSizing = 'content-box'; // override notebook setting of border-box.\n};\n\nmpl.figure.prototype._canvas_extra_style = function (el) {\n    // this is important to make the div 'focusable\n    el.setAttribute('tabindex', 0);\n    // reach out to IPython and tell the keyboard manager to turn it's self\n    // off when our div gets focus\n\n    // location in version 3\n    if (IPython.notebook.keyboard_manager) {\n        IPython.notebook.keyboard_manager.register_events(el);\n    } else {\n        // location in version 2\n        IPython.keyboard_manager.register_events(el);\n    }\n};\n\nmpl.figure.prototype._key_event_extra = function (event, _name) {\n    // Check for shift+enter\n    if (event.shiftKey && event.which === 13) {\n        this.canvas_div.blur();\n        // select the cell after this one\n        var index = IPython.notebook.find_cell_index(this.cell_info[0]);\n        IPython.notebook.select(index + 1);\n    }\n};\n\nmpl.figure.prototype.handle_save = function (fig, _msg) {\n    fig.ondownload(fig, null);\n};\n\nmpl.find_output_cell = function (html_output) {\n    // Return the cell and output element which can be found *uniquely* in the notebook.\n    // Note - this is a bit hacky, but it is done because the \"notebook_saving.Notebook\"\n    // IPython event is triggered only after the cells have been serialised, which for\n    // our purposes (turning an active figure into a static one), is too late.\n    var cells = IPython.notebook.get_cells();\n    var ncells = cells.length;\n    for (var i = 0; i < ncells; i++) {\n        var cell = cells[i];\n        if (cell.cell_type === 'code') {\n            for (var j = 0; j < cell.output_area.outputs.length; j++) {\n                var data = cell.output_area.outputs[j];\n                if (data.data) {\n                    // IPython >= 3 moved mimebundle to data attribute of output\n                    data = data.data;\n                }\n                if (data['text/html'] === html_output) {\n                    return [cell, data, j];\n                }\n            }\n        }\n    }\n};\n\n// Register the function which deals with the matplotlib target/channel.\n// The kernel may be null if the page has been refreshed.\nif (IPython.notebook.kernel !== null) {\n    IPython.notebook.kernel.comm_manager.register_target(\n        'matplotlib',\n        mpl.mpl_figure_comm\n    );\n}\n",
      "text/plain": [
       "<IPython.core.display.Javascript object>"
      ]
     },
     "metadata": {},
     "output_type": "display_data"
    },
    {
     "data": {
      "text/html": [
       "<div id='a927e43b-c6f3-409c-b96c-d0bc837dd509'></div>"
      ],
      "text/plain": [
       "<IPython.core.display.HTML object>"
      ]
     },
     "metadata": {},
     "output_type": "display_data"
    }
   ],
   "source": [
    "import yt\n",
    "import numpy as np\n",
    "import matplotlib.pyplot as plt\n",
    "from unyt import unyt_quantity\n",
    "# /home/oppenheimer/RelBlastwave/Sedov/sedov_hdf5_chk_0000\n",
    "# Initialize lists to store time and radius values\n",
    "times = []\n",
    "radii = []\n",
    "\n",
    "for i in range(1, 5):\n",
    "    ds = yt.load(f\"/home/oppenheimer/RelBlastwave/Sedov/sedov_hdf5_chk_{i:04d}\")\n",
    "    \n",
    "    print(ds.field_list)\n",
    "    \n",
    "    # Get the current simulation time (with units)\n",
    "    current_time = ds.current_time\n",
    "    times.append(current_time)\n",
    "    \n",
    "    # Create a sphere to find maximum density location\n",
    "    # Use proper units for the center\n",
    "    center = ds.arr([0.5, 0.5, 0.5], \"code_length\")\n",
    "    sp = ds.sphere(center, (0.5, \"code_length\"))\n",
    "    \n",
    "    # Find the point of maximum density (returns position with units)\n",
    "    max_dens_loc = sp.argmax('density')\n",
    "    \n",
    "    # Calculate distance from center (radius) - properly handle units\n",
    "    radius = np.sqrt(np.sum((max_dens_loc - center)**2))\n",
    "    radii.append(radius)\n",
    "    \n",
    "    # Make a slice plot (optional)\n",
    "    slc = yt.SlicePlot(ds, 'z', 'temperature')\n",
    "    slc.annotate_title(f\"Temperature Slice, t = {current_time:.2f}\")\n",
    "    slc.save(f\"temperature_slice{i:04d}.png\")\n",
    "\n",
    "# Convert to numpy arrays for plotting, stripping units if needed\n",
    "times = np.array([t.value for t in times])\n",
    "radii = np.array([r.value for r in radii])\n",
    "\n",
    "# Get the time units for axis labels\n",
    "time_units = str(times[0].units) if hasattr(times[0], 'units') else 'code_time'\n",
    "radius_units = str(radii[0].units) if hasattr(radii[0], 'units') else 'code_length'\n",
    "\n",
    "# Plot r vs t\n",
    "plt.figure(figsize=(8,6))\n",
    "plt.plot(times, radii, 'bo-', label='Simulation Data')\n",
    "plt.xlabel(f'Time [{time_units}]')\n",
    "plt.ylabel(f'Radius [{radius_units}]')\n",
    "plt.title('Sedov-Taylor Blast Wave 2D: Radius vs Time')\n",
    "plt.grid(True)\n",
    "plt.legend()\n",
    "\n",
    "# Optional: Plot theoretical Sedov-Taylor scaling (r ∝ t^(2/5))\n",
    "if len(times) > 1:\n",
    "    # Fit a power law to see if we get the expected 2/5 exponent\n",
    "    fit = np.polyfit(np.log(times[1:]), np.log(radii[1:]), 1)\n",
    "    plt.plot(times, np.exp(fit[1]) * times**fit[0], 'r--', \n",
    "             label=f'Fit: r ∝ t^{fit[0]:.2f} (Expected 0.5)')\n",
    "    plt.legend()\n",
    "\n",
    "plt.savefig('radius_vs_time.png')\n",
    "plt.show()"
   ]
  },
  {
   "cell_type": "code",
   "execution_count": 10,
   "id": "843f453b",
   "metadata": {},
   "outputs": [
    {
     "name": "stderr",
     "output_type": "stream",
     "text": [
      "yt : [INFO     ] 2025-05-01 21:15:48,080 Parameters: current_time              = 0.0\n",
      "yt : [INFO     ] 2025-05-01 21:15:48,081 Parameters: domain_dimensions         = [8 8 1]\n",
      "yt : [INFO     ] 2025-05-01 21:15:48,082 Parameters: domain_left_edge          = [0. 0. 0.]\n",
      "yt : [INFO     ] 2025-05-01 21:15:48,082 Parameters: domain_right_edge         = [1. 1. 1.]\n",
      "yt : [INFO     ] 2025-05-01 21:15:48,083 Parameters: cosmological_simulation   = 0\n"
     ]
    },
    {
     "name": "stdout",
     "output_type": "stream",
     "text": [
      "[8 8 1]\n"
     ]
    },
    {
     "name": "stderr",
     "output_type": "stream",
     "text": [
      "yt : [INFO     ] 2025-05-01 21:15:48,295 xlim = 0.000000 1.000000\n",
      "yt : [INFO     ] 2025-05-01 21:15:48,296 ylim = 0.000000 1.000000\n",
      "yt : [INFO     ] 2025-05-01 21:15:48,297 xlim = 0.000000 1.000000\n",
      "yt : [INFO     ] 2025-05-01 21:15:48,298 ylim = 0.000000 1.000000\n",
      "yt : [INFO     ] 2025-05-01 21:15:48,300 Making a fixed resolution buffer of (('gas', 'temperature')) 800 by 800\n",
      "yt : [INFO     ] 2025-05-01 21:15:48,571 Saving plot temperature_slice0000.png\n",
      "yt : [INFO     ] 2025-05-01 21:15:48,777 Parameters: current_time              = 0.010059905419357001\n",
      "yt : [INFO     ] 2025-05-01 21:15:48,779 Parameters: domain_dimensions         = [8 8 1]\n",
      "yt : [INFO     ] 2025-05-01 21:15:48,780 Parameters: domain_left_edge          = [0. 0. 0.]\n",
      "yt : [INFO     ] 2025-05-01 21:15:48,781 Parameters: domain_right_edge         = [1. 1. 1.]\n",
      "yt : [INFO     ] 2025-05-01 21:15:48,781 Parameters: cosmological_simulation   = 0\n"
     ]
    },
    {
     "name": "stdout",
     "output_type": "stream",
     "text": [
      "[8 8 1]\n"
     ]
    },
    {
     "name": "stderr",
     "output_type": "stream",
     "text": [
      "yt : [INFO     ] 2025-05-01 21:15:49,226 xlim = 0.000000 1.000000\n",
      "yt : [INFO     ] 2025-05-01 21:15:49,227 ylim = 0.000000 1.000000\n",
      "yt : [INFO     ] 2025-05-01 21:15:49,229 xlim = 0.000000 1.000000\n",
      "yt : [INFO     ] 2025-05-01 21:15:49,229 ylim = 0.000000 1.000000\n",
      "yt : [INFO     ] 2025-05-01 21:15:49,231 Making a fixed resolution buffer of (('gas', 'temperature')) 800 by 800\n",
      "yt : [INFO     ] 2025-05-01 21:15:49,534 Saving plot temperature_slice0001.png\n",
      "yt : [INFO     ] 2025-05-01 21:15:49,753 Parameters: current_time              = 0.020050605635410303\n",
      "yt : [INFO     ] 2025-05-01 21:15:49,754 Parameters: domain_dimensions         = [8 8 1]\n",
      "yt : [INFO     ] 2025-05-01 21:15:49,755 Parameters: domain_left_edge          = [0. 0. 0.]\n",
      "yt : [INFO     ] 2025-05-01 21:15:49,755 Parameters: domain_right_edge         = [1. 1. 1.]\n",
      "yt : [INFO     ] 2025-05-01 21:15:49,756 Parameters: cosmological_simulation   = 0\n"
     ]
    },
    {
     "name": "stdout",
     "output_type": "stream",
     "text": [
      "[8 8 1]\n"
     ]
    },
    {
     "name": "stderr",
     "output_type": "stream",
     "text": [
      "yt : [INFO     ] 2025-05-01 21:15:50,002 xlim = 0.000000 1.000000\n",
      "yt : [INFO     ] 2025-05-01 21:15:50,003 ylim = 0.000000 1.000000\n",
      "yt : [INFO     ] 2025-05-01 21:15:50,005 xlim = 0.000000 1.000000\n",
      "yt : [INFO     ] 2025-05-01 21:15:50,005 ylim = 0.000000 1.000000\n",
      "yt : [INFO     ] 2025-05-01 21:15:50,007 Making a fixed resolution buffer of (('gas', 'temperature')) 800 by 800\n",
      "yt : [INFO     ] 2025-05-01 21:15:50,446 Saving plot temperature_slice0002.png\n",
      "yt : [INFO     ] 2025-05-01 21:15:50,637 Parameters: current_time              = 0.030166051242147225\n",
      "yt : [INFO     ] 2025-05-01 21:15:50,638 Parameters: domain_dimensions         = [8 8 1]\n",
      "yt : [INFO     ] 2025-05-01 21:15:50,638 Parameters: domain_left_edge          = [0. 0. 0.]\n",
      "yt : [INFO     ] 2025-05-01 21:15:50,639 Parameters: domain_right_edge         = [1. 1. 1.]\n",
      "yt : [INFO     ] 2025-05-01 21:15:50,640 Parameters: cosmological_simulation   = 0\n"
     ]
    },
    {
     "name": "stdout",
     "output_type": "stream",
     "text": [
      "[8 8 1]\n"
     ]
    },
    {
     "name": "stderr",
     "output_type": "stream",
     "text": [
      "yt : [INFO     ] 2025-05-01 21:15:50,881 xlim = 0.000000 1.000000\n",
      "yt : [INFO     ] 2025-05-01 21:15:50,882 ylim = 0.000000 1.000000\n",
      "yt : [INFO     ] 2025-05-01 21:15:50,883 xlim = 0.000000 1.000000\n",
      "yt : [INFO     ] 2025-05-01 21:15:50,884 ylim = 0.000000 1.000000\n",
      "yt : [INFO     ] 2025-05-01 21:15:50,885 Making a fixed resolution buffer of (('gas', 'temperature')) 800 by 800\n",
      "yt : [INFO     ] 2025-05-01 21:15:51,149 Saving plot temperature_slice0003.png\n",
      "yt : [INFO     ] 2025-05-01 21:15:51,464 Parameters: current_time              = 0.04005200785426079\n",
      "yt : [INFO     ] 2025-05-01 21:15:51,465 Parameters: domain_dimensions         = [8 8 1]\n",
      "yt : [INFO     ] 2025-05-01 21:15:51,465 Parameters: domain_left_edge          = [0. 0. 0.]\n",
      "yt : [INFO     ] 2025-05-01 21:15:51,466 Parameters: domain_right_edge         = [1. 1. 1.]\n",
      "yt : [INFO     ] 2025-05-01 21:15:51,466 Parameters: cosmological_simulation   = 0\n"
     ]
    },
    {
     "name": "stdout",
     "output_type": "stream",
     "text": [
      "[8 8 1]\n"
     ]
    },
    {
     "name": "stderr",
     "output_type": "stream",
     "text": [
      "yt : [INFO     ] 2025-05-01 21:15:51,703 xlim = 0.000000 1.000000\n",
      "yt : [INFO     ] 2025-05-01 21:15:51,704 ylim = 0.000000 1.000000\n",
      "yt : [INFO     ] 2025-05-01 21:15:51,706 xlim = 0.000000 1.000000\n",
      "yt : [INFO     ] 2025-05-01 21:15:51,707 ylim = 0.000000 1.000000\n",
      "yt : [INFO     ] 2025-05-01 21:15:51,708 Making a fixed resolution buffer of (('gas', 'temperature')) 800 by 800\n",
      "yt : [INFO     ] 2025-05-01 21:15:51,983 Saving plot temperature_slice0004.png\n",
      "yt : [INFO     ] 2025-05-01 21:15:52,168 Parameters: current_time              = 0.05016158899765282\n",
      "yt : [INFO     ] 2025-05-01 21:15:52,169 Parameters: domain_dimensions         = [8 8 1]\n",
      "yt : [INFO     ] 2025-05-01 21:15:52,170 Parameters: domain_left_edge          = [0. 0. 0.]\n",
      "yt : [INFO     ] 2025-05-01 21:15:52,171 Parameters: domain_right_edge         = [1. 1. 1.]\n",
      "yt : [INFO     ] 2025-05-01 21:15:52,171 Parameters: cosmological_simulation   = 0\n"
     ]
    },
    {
     "name": "stdout",
     "output_type": "stream",
     "text": [
      "[8 8 1]\n"
     ]
    },
    {
     "name": "stderr",
     "output_type": "stream",
     "text": [
      "yt : [INFO     ] 2025-05-01 21:15:52,540 xlim = 0.000000 1.000000\n",
      "yt : [INFO     ] 2025-05-01 21:15:52,541 ylim = 0.000000 1.000000\n",
      "yt : [INFO     ] 2025-05-01 21:15:52,543 xlim = 0.000000 1.000000\n",
      "yt : [INFO     ] 2025-05-01 21:15:52,544 ylim = 0.000000 1.000000\n",
      "yt : [INFO     ] 2025-05-01 21:15:52,545 Making a fixed resolution buffer of (('gas', 'temperature')) 800 by 800\n",
      "yt : [INFO     ] 2025-05-01 21:15:52,811 Saving plot temperature_slice0005.png\n"
     ]
    }
   ],
   "source": [
    "for i in range (0,6):\n",
    "    ds = yt.load(\n",
    "        f\"/home/oppenheimer/RelBlastwave/Sedov/sedov_hdf5_chk_{i:04d}\")\n",
    "\n",
    "    print(ds.domain_dimensions)\n",
    "\n",
    "\n",
    "    #make a slice plot\n",
    "    slc = yt.SlicePlot(ds, 'z', 'temperature')\n",
    "    #plot density along x-axis\n",
    "    \n",
    "    # slc.set_cmap('density'', 'viridis')\n",
    "    # slc.set_zlim('density', -1, 1)\n",
    "    slc.annotate_title(\"Temperature Slice\")\n",
    "    slc.save(f\"temperature_slice{i:04d}.png\")\n",
    "\n",
    "\n",
    "# #make a LinePlot\n",
    "# for i in range (0,6):\n",
    "#     ds = yt.load(\n",
    "#         f\"/home/oppenheimer/RelBlastwave/Sedov/sedov_hdf5_chk_{i:04d}\")\n",
    "\n",
    "#     print(ds.field_list)\n",
    "\n",
    "#     #make a slice plot\n",
    "#     # slc = yt.LinePlot(ds,'density',[0,0],[1,0],100)\n",
    "#     # Create a line along the x-axis at y = center of domain\n",
    "#     center = ds.domain_center\n",
    "#     start_point = [ds.domain_left_edge[0], center[1], center[2]]\n",
    "#     end_point = [ds.domain_right_edge[0], center[1], center[2]]\n",
    "\n",
    "#     line = yt.LinePlot(ds, \"temperature\", start_point, end_point, 512)\n",
    "#     # line.save()\n",
    "\n",
    "#     # slc.set_cmap('density'', 'viridis')\n",
    "#     # slc.set_zlim('density', -1, 1)\n",
    "#     # slc.annotate_title(\"Density Line\")\n",
    "#     line.save(f\"temperature_line{i:04d}.png\")\n",
    "\n",
    "# #make a projection plot"
   ]
  },
  {
   "cell_type": "code",
   "execution_count": 7,
   "id": "38439d68",
   "metadata": {},
   "outputs": [
    {
     "name": "stderr",
     "output_type": "stream",
     "text": [
      "/tmp/ipykernel_17225/1754614713.py:11: DeprecationWarning: Starting with ImageIO v3 the behavior of this function will switch to that of iio.v3.imread. To keep the current behavior (and make this warning disappear) use `import imageio.v2 as imageio` or call `imageio.v2.imread` directly.\n",
      "  image = imageio.imread(filename)\n"
     ]
    }
   ],
   "source": [
    "#create gifs from the pngs\n",
    "import imageio\n",
    "import glob\n",
    "\n",
    "# Collect and sort the image filenames\n",
    "image_filenames = sorted(glob.glob(\"density_slice*.png\"))\n",
    "\n",
    "# Create the GIF\n",
    "with imageio.get_writer('density_slice_evolution.gif', mode='I', duration=15, loop=0) as writer:\n",
    "    for filename in image_filenames:\n",
    "        image = imageio.imread(filename)\n",
    "        writer.append_data(image)\n"
   ]
  }
 ],
 "metadata": {
  "kernelspec": {
   "display_name": "ztf",
   "language": "python",
   "name": "python3"
  },
  "language_info": {
   "codemirror_mode": {
    "name": "ipython",
    "version": 3
   },
   "file_extension": ".py",
   "mimetype": "text/x-python",
   "name": "python",
   "nbconvert_exporter": "python",
   "pygments_lexer": "ipython3",
   "version": "3.10.14"
  }
 },
 "nbformat": 4,
 "nbformat_minor": 5
}
