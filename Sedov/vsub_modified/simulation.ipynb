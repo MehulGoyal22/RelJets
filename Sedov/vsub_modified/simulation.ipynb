{
 "cells": [
  {
   "cell_type": "markdown",
   "id": "14232d8e",
   "metadata": {},
   "source": [
    "# Flash Visualization Code\n"
   ]
  },
  {
   "cell_type": "code",
   "execution_count": 5,
   "id": "b937fa39",
   "metadata": {},
   "outputs": [],
   "source": [
    "%matplotlib notebook\n",
    "import yt\n",
    "yt.toggle_interactivity()"
   ]
  },
  {
   "cell_type": "code",
   "execution_count": 10,
   "id": "b7b377c9",
   "metadata": {},
   "outputs": [
    {
     "name": "stderr",
     "output_type": "stream",
     "text": [
      "yt : [INFO     ] 2025-06-04 22:11:50,270 Parameters: current_time              = 0.010098826337342942\n",
      "yt : [INFO     ] 2025-06-04 22:11:50,271 Parameters: domain_dimensions         = [8 8 1]\n",
      "yt : [INFO     ] 2025-06-04 22:11:50,271 Parameters: domain_left_edge          = [0. 0. 0.]\n",
      "yt : [INFO     ] 2025-06-04 22:11:50,272 Parameters: domain_right_edge         = [1. 1. 1.]\n",
      "yt : [INFO     ] 2025-06-04 22:11:50,272 Parameters: cosmological_simulation   = 0\n",
      "yt : [INFO     ] 2025-06-04 22:11:50,664 xlim = 0.000000 1.000000\n",
      "yt : [INFO     ] 2025-06-04 22:11:50,665 ylim = 0.000000 1.000000\n",
      "yt : [INFO     ] 2025-06-04 22:11:50,667 xlim = 0.000000 1.000000\n",
      "yt : [INFO     ] 2025-06-04 22:11:50,667 ylim = 0.000000 1.000000\n",
      "yt : [INFO     ] 2025-06-04 22:11:50,669 Making a fixed resolution buffer of (('flash', 'velx')) 800 by 800\n"
     ]
    },
    {
     "name": "stdout",
     "output_type": "stream",
     "text": [
      "[('flash', 'dena'), ('flash', 'dens'), ('flash', 'eina'), ('flash', 'eint'), ('flash', 'ener'), ('flash', 'enra'), ('flash', 'gamc'), ('flash', 'game'), ('flash', 'pres'), ('flash', 'prsa'), ('flash', 'shok'), ('flash', 'temp'), ('flash', 'velx'), ('flash', 'vely'), ('flash', 'velz'), ('flash', 'vlxa'), ('flash', 'vlya'), ('flash', 'vlza')]\n"
     ]
    },
    {
     "name": "stderr",
     "output_type": "stream",
     "text": [
      "yt : [INFO     ] 2025-06-04 22:11:51,097 Saving plot velx_slice0001.png\n",
      "yt : [INFO     ] 2025-06-04 22:11:51,391 Parameters: current_time              = 0.02008830645388839\n",
      "yt : [INFO     ] 2025-06-04 22:11:51,391 Parameters: domain_dimensions         = [8 8 1]\n",
      "yt : [INFO     ] 2025-06-04 22:11:51,392 Parameters: domain_left_edge          = [0. 0. 0.]\n",
      "yt : [INFO     ] 2025-06-04 22:11:51,392 Parameters: domain_right_edge         = [1. 1. 1.]\n",
      "yt : [INFO     ] 2025-06-04 22:11:51,393 Parameters: cosmological_simulation   = 0\n",
      "yt : [INFO     ] 2025-06-04 22:11:51,789 xlim = 0.000000 1.000000\n",
      "yt : [INFO     ] 2025-06-04 22:11:51,790 ylim = 0.000000 1.000000\n",
      "yt : [INFO     ] 2025-06-04 22:11:51,792 xlim = 0.000000 1.000000\n",
      "yt : [INFO     ] 2025-06-04 22:11:51,792 ylim = 0.000000 1.000000\n",
      "yt : [INFO     ] 2025-06-04 22:11:51,794 Making a fixed resolution buffer of (('flash', 'velx')) 800 by 800\n"
     ]
    },
    {
     "name": "stdout",
     "output_type": "stream",
     "text": [
      "[('flash', 'dena'), ('flash', 'dens'), ('flash', 'eina'), ('flash', 'eint'), ('flash', 'ener'), ('flash', 'enra'), ('flash', 'gamc'), ('flash', 'game'), ('flash', 'pres'), ('flash', 'prsa'), ('flash', 'shok'), ('flash', 'temp'), ('flash', 'velx'), ('flash', 'vely'), ('flash', 'velz'), ('flash', 'vlxa'), ('flash', 'vlya'), ('flash', 'vlza')]\n"
     ]
    },
    {
     "name": "stderr",
     "output_type": "stream",
     "text": [
      "yt : [INFO     ] 2025-06-04 22:11:52,355 Saving plot velx_slice0002.png\n",
      "yt : [INFO     ] 2025-06-04 22:11:52,623 Parameters: current_time              = 0.03012728283346635\n",
      "yt : [INFO     ] 2025-06-04 22:11:52,623 Parameters: domain_dimensions         = [8 8 1]\n",
      "yt : [INFO     ] 2025-06-04 22:11:52,624 Parameters: domain_left_edge          = [0. 0. 0.]\n",
      "yt : [INFO     ] 2025-06-04 22:11:52,625 Parameters: domain_right_edge         = [1. 1. 1.]\n",
      "yt : [INFO     ] 2025-06-04 22:11:52,625 Parameters: cosmological_simulation   = 0\n",
      "yt : [INFO     ] 2025-06-04 22:11:52,901 xlim = 0.000000 1.000000\n",
      "yt : [INFO     ] 2025-06-04 22:11:52,902 ylim = 0.000000 1.000000\n",
      "yt : [INFO     ] 2025-06-04 22:11:52,904 xlim = 0.000000 1.000000\n",
      "yt : [INFO     ] 2025-06-04 22:11:52,904 ylim = 0.000000 1.000000\n",
      "yt : [INFO     ] 2025-06-04 22:11:52,906 Making a fixed resolution buffer of (('flash', 'velx')) 800 by 800\n"
     ]
    },
    {
     "name": "stdout",
     "output_type": "stream",
     "text": [
      "[('flash', 'dena'), ('flash', 'dens'), ('flash', 'eina'), ('flash', 'eint'), ('flash', 'ener'), ('flash', 'enra'), ('flash', 'gamc'), ('flash', 'game'), ('flash', 'pres'), ('flash', 'prsa'), ('flash', 'shok'), ('flash', 'temp'), ('flash', 'velx'), ('flash', 'vely'), ('flash', 'velz'), ('flash', 'vlxa'), ('flash', 'vlya'), ('flash', 'vlza')]\n"
     ]
    },
    {
     "name": "stderr",
     "output_type": "stream",
     "text": [
      "yt : [INFO     ] 2025-06-04 22:11:53,429 Saving plot velx_slice0003.png\n",
      "yt : [INFO     ] 2025-06-04 22:11:53,702 Parameters: current_time              = 0.04015533684343036\n",
      "yt : [INFO     ] 2025-06-04 22:11:53,702 Parameters: domain_dimensions         = [8 8 1]\n",
      "yt : [INFO     ] 2025-06-04 22:11:53,703 Parameters: domain_left_edge          = [0. 0. 0.]\n",
      "yt : [INFO     ] 2025-06-04 22:11:53,703 Parameters: domain_right_edge         = [1. 1. 1.]\n",
      "yt : [INFO     ] 2025-06-04 22:11:53,704 Parameters: cosmological_simulation   = 0\n",
      "yt : [INFO     ] 2025-06-04 22:11:54,088 xlim = 0.000000 1.000000\n",
      "yt : [INFO     ] 2025-06-04 22:11:54,088 ylim = 0.000000 1.000000\n",
      "yt : [INFO     ] 2025-06-04 22:11:54,090 xlim = 0.000000 1.000000\n",
      "yt : [INFO     ] 2025-06-04 22:11:54,091 ylim = 0.000000 1.000000\n",
      "yt : [INFO     ] 2025-06-04 22:11:54,092 Making a fixed resolution buffer of (('flash', 'velx')) 800 by 800\n"
     ]
    },
    {
     "name": "stdout",
     "output_type": "stream",
     "text": [
      "[('flash', 'dena'), ('flash', 'dens'), ('flash', 'eina'), ('flash', 'eint'), ('flash', 'ener'), ('flash', 'enra'), ('flash', 'gamc'), ('flash', 'game'), ('flash', 'pres'), ('flash', 'prsa'), ('flash', 'shok'), ('flash', 'temp'), ('flash', 'velx'), ('flash', 'vely'), ('flash', 'velz'), ('flash', 'vlxa'), ('flash', 'vlya'), ('flash', 'vlza')]\n"
     ]
    },
    {
     "name": "stderr",
     "output_type": "stream",
     "text": [
      "yt : [INFO     ] 2025-06-04 22:11:54,499 Saving plot velx_slice0004.png\n",
      "yt : [INFO     ] 2025-06-04 22:11:54,756 Parameters: current_time              = 0.05000875916233035\n",
      "yt : [INFO     ] 2025-06-04 22:11:54,757 Parameters: domain_dimensions         = [8 8 1]\n",
      "yt : [INFO     ] 2025-06-04 22:11:54,758 Parameters: domain_left_edge          = [0. 0. 0.]\n",
      "yt : [INFO     ] 2025-06-04 22:11:54,758 Parameters: domain_right_edge         = [1. 1. 1.]\n",
      "yt : [INFO     ] 2025-06-04 22:11:54,759 Parameters: cosmological_simulation   = 0\n",
      "yt : [INFO     ] 2025-06-04 22:11:55,161 xlim = 0.000000 1.000000\n",
      "yt : [INFO     ] 2025-06-04 22:11:55,162 ylim = 0.000000 1.000000\n",
      "yt : [INFO     ] 2025-06-04 22:11:55,163 xlim = 0.000000 1.000000\n",
      "yt : [INFO     ] 2025-06-04 22:11:55,164 ylim = 0.000000 1.000000\n",
      "yt : [INFO     ] 2025-06-04 22:11:55,165 Making a fixed resolution buffer of (('flash', 'velx')) 800 by 800\n"
     ]
    },
    {
     "name": "stdout",
     "output_type": "stream",
     "text": [
      "[('flash', 'dena'), ('flash', 'dens'), ('flash', 'eina'), ('flash', 'eint'), ('flash', 'ener'), ('flash', 'enra'), ('flash', 'gamc'), ('flash', 'game'), ('flash', 'pres'), ('flash', 'prsa'), ('flash', 'shok'), ('flash', 'temp'), ('flash', 'velx'), ('flash', 'vely'), ('flash', 'velz'), ('flash', 'vlxa'), ('flash', 'vlya'), ('flash', 'vlza')]\n"
     ]
    },
    {
     "name": "stderr",
     "output_type": "stream",
     "text": [
      "yt : [INFO     ] 2025-06-04 22:11:55,573 Saving plot velx_slice0005.png\n"
     ]
    }
   ],
   "source": [
    "for i in range (1,6):\n",
    "    ds = yt.load(\n",
    "        f\"/home/oppenheimer/RelBlastwave/Sedov/vsub_modified/sedov_hdf5_chk_{i:04d}\")\n",
    "\n",
    "    print(ds.field_list)\n",
    "\n",
    "    #make a slice plot\n",
    "    slc = yt.SlicePlot(ds, 'z', 'velx')\n",
    "    #plot density along x-axis\n",
    "    \n",
    "    # slc.set_cmap('density'', 'viridis')\n",
    "    # slc.set_zlim('density', -1, 1)\n",
    "    slc.annotate_title(\"Velocity X Slice\")\n",
    "    slc.save(f\"velx_slice{i:04d}.png\")\n"
   ]
  },
  {
   "cell_type": "code",
   "execution_count": null,
   "id": "3cfdbf54",
   "metadata": {},
   "outputs": [],
   "source": [
    "import yt\n",
    "import numpy as np\n",
    "import matplotlib.pyplot as plt\n",
    "from unyt import unyt_quantity\n",
    "# /home/oppenheimer/RelBlastwave/Sedov/sedov_hdf5_chk_0000\n",
    "# Initialize lists to store time and radius values\n",
    "times = []\n",
    "radii = []\n",
    "\n",
    "for i in range(1, 5):\n",
    "    ds = yt.load(f\"/home/oppenheimer/RelBlastwave/Sedov/sedov_hdf5_chk_{i:04d}\")\n",
    "    \n",
    "    print(ds.field_list)\n",
    "    \n",
    "    # Get the current simulation time (with units)\n",
    "    current_time = ds.current_time\n",
    "    times.append(current_time)\n",
    "    \n",
    "    # Create a sphere to find maximum density location\n",
    "    # Use proper units for the center\n",
    "    center = ds.arr([0.5, 0.5, 0.5], \"code_length\")\n",
    "    sp = ds.sphere(center, (0.5, \"code_length\"))\n",
    "    \n",
    "    # Find the point of maximum density (returns position with units)\n",
    "    max_dens_loc = sp.argmax('density')\n",
    "    \n",
    "    # Calculate distance from center (radius) - properly handle units\n",
    "    radius = np.sqrt(np.sum((max_dens_loc - center)**2))\n",
    "    radii.append(radius)\n",
    "    \n",
    "    # Make a slice plot (optional)\n",
    "    slc = yt.SlicePlot(ds, 'z', 'temperature')\n",
    "    slc.annotate_title(f\"Temperature Slice, t = {current_time:.2f}\")\n",
    "    slc.save(f\"temperature_slice{i:04d}.png\")\n",
    "\n",
    "# Convert to numpy arrays for plotting, stripping units if needed\n",
    "times = np.array([t.value for t in times])\n",
    "radii = np.array([r.value for r in radii])\n",
    "\n",
    "# Get the time units for axis labels\n",
    "time_units = str(times[0].units) if hasattr(times[0], 'units') else 'code_time'\n",
    "radius_units = str(radii[0].units) if hasattr(radii[0], 'units') else 'code_length'\n",
    "\n",
    "# Plot r vs t\n",
    "plt.figure(figsize=(8,6))\n",
    "plt.plot(times, radii, 'bo-', label='Simulation Data')\n",
    "plt.xlabel(f'Time [{time_units}]')\n",
    "plt.ylabel(f'Radius [{radius_units}]')\n",
    "plt.title('Sedov-Taylor Blast Wave 2D: Radius vs Time')\n",
    "plt.grid(True)\n",
    "plt.legend()\n",
    "\n",
    "# Optional: Plot theoretical Sedov-Taylor scaling (r ∝ t^(2/5))\n",
    "if len(times) > 1:\n",
    "    # Fit a power law to see if we get the expected 2/5 exponent\n",
    "    fit = np.polyfit(np.log(times[1:]), np.log(radii[1:]), 1)\n",
    "    plt.plot(times, np.exp(fit[1]) * times**fit[0], 'r--', \n",
    "             label=f'Fit: r ∝ t^{fit[0]:.2f} (Expected 0.5)')\n",
    "    plt.legend()\n",
    "\n",
    "plt.savefig('radius_vs_time.png')\n",
    "plt.show()"
   ]
  },
  {
   "cell_type": "code",
   "execution_count": null,
   "id": "843f453b",
   "metadata": {},
   "outputs": [],
   "source": [
    "for i in range (0,6):\n",
    "    ds = yt.load(\n",
    "        f\"/home/oppenheimer/RelBlastwave/Sedov/sedov_hdf5_chk_{i:04d}\")\n",
    "\n",
    "    print(ds.domain_dimensions)\n",
    "\n",
    "\n",
    "    #make a slice plot\n",
    "    slc = yt.SlicePlot(ds, 'z', 'temperature')\n",
    "    #plot density along x-axis\n",
    "    \n",
    "    # slc.set_cmap('density'', 'viridis')\n",
    "    # slc.set_zlim('density', -1, 1)\n",
    "    slc.annotate_title(\"Temperature Slice\")\n",
    "    slc.save(f\"temperature_slice{i:04d}.png\")\n",
    "\n",
    "\n",
    "# #make a LinePlot\n",
    "# for i in range (0,6):\n",
    "#     ds = yt.load(\n",
    "#         f\"/home/oppenheimer/RelBlastwave/Sedov/sedov_hdf5_chk_{i:04d}\")\n",
    "\n",
    "#     print(ds.field_list)\n",
    "\n",
    "#     #make a slice plot\n",
    "#     # slc = yt.LinePlot(ds,'density',[0,0],[1,0],100)\n",
    "#     # Create a line along the x-axis at y = center of domain\n",
    "#     center = ds.domain_center\n",
    "#     start_point = [ds.domain_left_edge[0], center[1], center[2]]\n",
    "#     end_point = [ds.domain_right_edge[0], center[1], center[2]]\n",
    "\n",
    "#     line = yt.LinePlot(ds, \"temperature\", start_point, end_point, 512)\n",
    "#     # line.save()\n",
    "\n",
    "#     # slc.set_cmap('density'', 'viridis')\n",
    "#     # slc.set_zlim('density', -1, 1)\n",
    "#     # slc.annotate_title(\"Density Line\")\n",
    "#     line.save(f\"temperature_line{i:04d}.png\")\n",
    "\n",
    "# #make a projection plot"
   ]
  },
  {
   "cell_type": "code",
   "execution_count": null,
   "id": "38439d68",
   "metadata": {},
   "outputs": [],
   "source": [
    "#create gifs from the pngs\n",
    "import imageio\n",
    "import glob\n",
    "\n",
    "# Collect and sort the image filenames\n",
    "image_filenames = sorted(glob.glob(\"density_slice*.png\"))\n",
    "\n",
    "# Create the GIF\n",
    "with imageio.get_writer('density_slice_evolution.gif', mode='I', duration=15, loop=0) as writer:\n",
    "    for filename in image_filenames:\n",
    "        image = imageio.imread(filename)\n",
    "        writer.append_data(image)\n"
   ]
  }
 ],
 "metadata": {
  "kernelspec": {
   "display_name": "ztf",
   "language": "python",
   "name": "python3"
  },
  "language_info": {
   "codemirror_mode": {
    "name": "ipython",
    "version": 3
   },
   "file_extension": ".py",
   "mimetype": "text/x-python",
   "name": "python",
   "nbconvert_exporter": "python",
   "pygments_lexer": "ipython3",
   "version": "3.10.14"
  }
 },
 "nbformat": 4,
 "nbformat_minor": 5
}
